{
 "cells": [
  {
   "cell_type": "code",
   "execution_count": 2,
   "id": "05df9b20",
   "metadata": {},
   "outputs": [],
   "source": [
    "import pandas as pd"
   ]
  },
  {
   "cell_type": "code",
   "execution_count": 4,
   "id": "7c23cd09",
   "metadata": {},
   "outputs": [],
   "source": [
    "results = pd.read_csv(\"4mpresults.csv\")"
   ]
  },
  {
   "cell_type": "code",
   "execution_count": 14,
   "id": "34487544",
   "metadata": {},
   "outputs": [
    {
     "data": {
      "text/html": [
       "<div>\n",
       "<style scoped>\n",
       "    .dataframe tbody tr th:only-of-type {\n",
       "        vertical-align: middle;\n",
       "    }\n",
       "\n",
       "    .dataframe tbody tr th {\n",
       "        vertical-align: top;\n",
       "    }\n",
       "\n",
       "    .dataframe thead th {\n",
       "        text-align: right;\n",
       "    }\n",
       "</style>\n",
       "<table border=\"1\" class=\"dataframe\">\n",
       "  <thead>\n",
       "    <tr style=\"text-align: right;\">\n",
       "      <th></th>\n",
       "      <th>model</th>\n",
       "      <th>image</th>\n",
       "      <th>resolution</th>\n",
       "      <th>detections</th>\n",
       "      <th>average confidence</th>\n",
       "    </tr>\n",
       "  </thead>\n",
       "  <tbody>\n",
       "    <tr>\n",
       "      <th>0</th>\n",
       "      <td>extra_large</td>\n",
       "      <td>4MP/2024-08-25-16-38-30.jpg</td>\n",
       "      <td>4</td>\n",
       "      <td>11</td>\n",
       "      <td>0.409583</td>\n",
       "    </tr>\n",
       "    <tr>\n",
       "      <th>1</th>\n",
       "      <td>large</td>\n",
       "      <td>4MP/2024-08-25-16-38-30.jpg</td>\n",
       "      <td>4</td>\n",
       "      <td>10</td>\n",
       "      <td>0.363605</td>\n",
       "    </tr>\n",
       "    <tr>\n",
       "      <th>2</th>\n",
       "      <td>medium</td>\n",
       "      <td>4MP/2024-08-25-16-38-30.jpg</td>\n",
       "      <td>4</td>\n",
       "      <td>7</td>\n",
       "      <td>0.342375</td>\n",
       "    </tr>\n",
       "    <tr>\n",
       "      <th>3</th>\n",
       "      <td>small</td>\n",
       "      <td>4MP/2024-08-25-16-38-30.jpg</td>\n",
       "      <td>4</td>\n",
       "      <td>7</td>\n",
       "      <td>0.337968</td>\n",
       "    </tr>\n",
       "    <tr>\n",
       "      <th>4</th>\n",
       "      <td>nano</td>\n",
       "      <td>4MP/2024-08-25-16-38-30.jpg</td>\n",
       "      <td>4</td>\n",
       "      <td>4</td>\n",
       "      <td>0.300910</td>\n",
       "    </tr>\n",
       "    <tr>\n",
       "      <th>...</th>\n",
       "      <td>...</td>\n",
       "      <td>...</td>\n",
       "      <td>...</td>\n",
       "      <td>...</td>\n",
       "      <td>...</td>\n",
       "    </tr>\n",
       "    <tr>\n",
       "      <th>190</th>\n",
       "      <td>extra_large</td>\n",
       "      <td>4MP/2024-08-25-16-34-00.jpg</td>\n",
       "      <td>4</td>\n",
       "      <td>16</td>\n",
       "      <td>0.343009</td>\n",
       "    </tr>\n",
       "    <tr>\n",
       "      <th>191</th>\n",
       "      <td>large</td>\n",
       "      <td>4MP/2024-08-25-16-34-00.jpg</td>\n",
       "      <td>4</td>\n",
       "      <td>12</td>\n",
       "      <td>0.323163</td>\n",
       "    </tr>\n",
       "    <tr>\n",
       "      <th>192</th>\n",
       "      <td>medium</td>\n",
       "      <td>4MP/2024-08-25-16-34-00.jpg</td>\n",
       "      <td>4</td>\n",
       "      <td>7</td>\n",
       "      <td>0.351208</td>\n",
       "    </tr>\n",
       "    <tr>\n",
       "      <th>193</th>\n",
       "      <td>small</td>\n",
       "      <td>4MP/2024-08-25-16-34-00.jpg</td>\n",
       "      <td>4</td>\n",
       "      <td>5</td>\n",
       "      <td>0.351826</td>\n",
       "    </tr>\n",
       "    <tr>\n",
       "      <th>194</th>\n",
       "      <td>nano</td>\n",
       "      <td>4MP/2024-08-25-16-34-00.jpg</td>\n",
       "      <td>4</td>\n",
       "      <td>2</td>\n",
       "      <td>0.260214</td>\n",
       "    </tr>\n",
       "  </tbody>\n",
       "</table>\n",
       "<p>195 rows × 5 columns</p>\n",
       "</div>"
      ],
      "text/plain": [
       "           model                        image  resolution  detections   \n",
       "0    extra_large  4MP/2024-08-25-16-38-30.jpg           4          11  \\\n",
       "1          large  4MP/2024-08-25-16-38-30.jpg           4          10   \n",
       "2         medium  4MP/2024-08-25-16-38-30.jpg           4           7   \n",
       "3          small  4MP/2024-08-25-16-38-30.jpg           4           7   \n",
       "4           nano  4MP/2024-08-25-16-38-30.jpg           4           4   \n",
       "..           ...                          ...         ...         ...   \n",
       "190  extra_large  4MP/2024-08-25-16-34-00.jpg           4          16   \n",
       "191        large  4MP/2024-08-25-16-34-00.jpg           4          12   \n",
       "192       medium  4MP/2024-08-25-16-34-00.jpg           4           7   \n",
       "193        small  4MP/2024-08-25-16-34-00.jpg           4           5   \n",
       "194         nano  4MP/2024-08-25-16-34-00.jpg           4           2   \n",
       "\n",
       "     average confidence  \n",
       "0              0.409583  \n",
       "1              0.363605  \n",
       "2              0.342375  \n",
       "3              0.337968  \n",
       "4              0.300910  \n",
       "..                  ...  \n",
       "190            0.343009  \n",
       "191            0.323163  \n",
       "192            0.351208  \n",
       "193            0.351826  \n",
       "194            0.260214  \n",
       "\n",
       "[195 rows x 5 columns]"
      ]
     },
     "execution_count": 14,
     "metadata": {},
     "output_type": "execute_result"
    }
   ],
   "source": [
    "results"
   ]
  },
  {
   "cell_type": "code",
   "execution_count": 1,
   "id": "0dba5650",
   "metadata": {},
   "outputs": [
    {
     "ename": "NameError",
     "evalue": "name 'results' is not defined",
     "output_type": "error",
     "traceback": [
      "\u001b[0;31m---------------------------------------------------------------------------\u001b[0m",
      "\u001b[0;31mNameError\u001b[0m                                 Traceback (most recent call last)",
      "Cell \u001b[0;32mIn[1], line 1\u001b[0m\n\u001b[0;32m----> 1\u001b[0m \u001b[43mresults\u001b[49m\u001b[38;5;241m.\u001b[39mboxplot(column\u001b[38;5;241m=\u001b[39m\u001b[38;5;124m'\u001b[39m\u001b[38;5;124mdetections\u001b[39m\u001b[38;5;124m'\u001b[39m, by\u001b[38;5;241m=\u001b[39m\u001b[38;5;124m'\u001b[39m\u001b[38;5;124mmodel\u001b[39m\u001b[38;5;124m'\u001b[39m)\n",
      "\u001b[0;31mNameError\u001b[0m: name 'results' is not defined"
     ]
    }
   ],
   "source": [
    "results.boxplot(column='average confidence', by='model')"
   ]
  },
  {
   "cell_type": "code",
   "execution_count": 10,
   "id": "f9457f91",
   "metadata": {},
   "outputs": [
    {
     "data": {
      "text/plain": [
       "array([[<Axes: title={'center': 'detections'}>]], dtype=object)"
      ]
     },
     "execution_count": 10,
     "metadata": {},
     "output_type": "execute_result"
    },
    {
     "data": {
      "image/png": "[encoded data removed]",
      "text/plain": [
       "<Figure size 640x480 with 1 Axes>"
      ]
     },
     "metadata": {},
     "output_type": "display_data"
    }
   ],
   "source": [
    "results.hist(column='detections')"
   ]
  },
  {
   "cell_type": "code",
   "execution_count": 12,
   "id": "e360731e",
   "metadata": {},
   "outputs": [
    {
     "data": {
      "text/plain": [
       "array([[<Axes: title={'center': 'average confidence'}>]], dtype=object)"
      ]
     },
     "execution_count": 12,
     "metadata": {},
     "output_type": "execute_result"
    },
    {
     "data": {
      "image/png": "[encoded data removed]",
      "text/plain": [
       "<Figure size 640x480 with 1 Axes>"
      ]
     },
     "metadata": {},
     "output_type": "display_data"
    }
   ],
   "source": [
    "results.hist('average confidence')"
   ]
  },
  {
   "cell_type": "code",
   "execution_count": 8,
   "id": "38a8805f",
   "metadata": {},
   "outputs": [],
   "source": [
    "\n",
    "hist(results['detections'])"
   ]
  }
 ],
 "metadata": {
  "kernelspec": {
   "display_name": "Python 3 (ipykernel)",
   "language": "python",
   "name": "python3"
  },
  "language_info": {
   "codemirror_mode": {
    "name": "ipython",
    "version": 3
   },
   "file_extension": ".py",
   "mimetype": "text/x-python",
   "name": "python",
   "nbconvert_exporter": "python",
   "pygments_lexer": "ipython3",
   "version": "3.11.2"
  }
 },
 "nbformat": 4,
 "nbformat_minor": 5
}
