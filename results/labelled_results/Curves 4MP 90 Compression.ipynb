{
 "cells": [
  {
   "cell_type": "code",
   "execution_count": 1,
   "id": "3aadf021",
   "metadata": {},
   "outputs": [],
   "source": [
    "import pandas as pd\n",
    "import matplotlib.pyplot as plt"
   ]
  },
  {
   "cell_type": "code",
   "execution_count": 3,
   "id": "a5c87570",
   "metadata": {},
   "outputs": [
    {
     "ename": "AttributeError",
     "evalue": "module 'matplotlib' has no attribute 'plot'",
     "output_type": "error",
     "traceback": [
      "\u001b[1;31m---------------------------------------------------------------------------\u001b[0m",
      "\u001b[1;31mAttributeError\u001b[0m                            Traceback (most recent call last)",
      "Cell \u001b[1;32mIn[3], line 8\u001b[0m\n\u001b[0;32m      5\u001b[0m     recall \u001b[38;5;241m=\u001b[39m row[\u001b[38;5;124m'\u001b[39m\u001b[38;5;124mRecall\u001b[39m\u001b[38;5;124m'\u001b[39m]\n\u001b[0;32m      7\u001b[0m     \u001b[38;5;66;03m# Now plot them\u001b[39;00m\n\u001b[1;32m----> 8\u001b[0m     \u001b[43mplt\u001b[49m\u001b[38;5;241;43m.\u001b[39;49m\u001b[43mplot\u001b[49m(recall, precision, label\u001b[38;5;241m=\u001b[39mrow[\u001b[38;5;124m'\u001b[39m\u001b[38;5;124mmodel\u001b[39m\u001b[38;5;124m'\u001b[39m])\n\u001b[0;32m     11\u001b[0m \u001b[38;5;66;03m# Adding labels and title\u001b[39;00m\n\u001b[0;32m     12\u001b[0m plt\u001b[38;5;241m.\u001b[39mxlabel(\u001b[38;5;124m'\u001b[39m\u001b[38;5;124mRecall\u001b[39m\u001b[38;5;124m'\u001b[39m)\n",
      "File \u001b[1;32mc:\\Users\\shaba\\AppData\\Local\\Programs\\Python\\Python310\\lib\\site-packages\\matplotlib\\_api\\__init__.py:217\u001b[0m, in \u001b[0;36mcaching_module_getattr.<locals>.__getattr__\u001b[1;34m(name)\u001b[0m\n\u001b[0;32m    215\u001b[0m \u001b[38;5;28;01mif\u001b[39;00m name \u001b[38;5;129;01min\u001b[39;00m props:\n\u001b[0;32m    216\u001b[0m     \u001b[38;5;28;01mreturn\u001b[39;00m props[name]\u001b[38;5;241m.\u001b[39m\u001b[38;5;21m__get__\u001b[39m(instance)\n\u001b[1;32m--> 217\u001b[0m \u001b[38;5;28;01mraise\u001b[39;00m \u001b[38;5;167;01mAttributeError\u001b[39;00m(\n\u001b[0;32m    218\u001b[0m     \u001b[38;5;124mf\u001b[39m\u001b[38;5;124m\"\u001b[39m\u001b[38;5;124mmodule \u001b[39m\u001b[38;5;132;01m{\u001b[39;00m\u001b[38;5;28mcls\u001b[39m\u001b[38;5;241m.\u001b[39m\u001b[38;5;18m__module__\u001b[39m\u001b[38;5;132;01m!r}\u001b[39;00m\u001b[38;5;124m has no attribute \u001b[39m\u001b[38;5;132;01m{\u001b[39;00mname\u001b[38;5;132;01m!r}\u001b[39;00m\u001b[38;5;124m\"\u001b[39m)\n",
      "\u001b[1;31mAttributeError\u001b[0m: module 'matplotlib' has no attribute 'plot'"
     ]
    }
   ],
   "source": [
    "curves = pd.read_json(\"4mp-labeled-90-results.json\")\n",
    "curves_filter = curves[curves[\"curve\"] == \"Precision-Recall(B)\"]\n",
    "for index, row in curves_filter.iterrows():\n",
    "    precision = row['Precision'][0]\n",
    "    recall = row['Recall']\n",
    "    \n",
    "    # Now plot them\n",
    "    plt.plot(recall, precision, label=row['model'])\n",
    "\n",
    "\n",
    "# Adding labels and title\n",
    "plt.xlabel('Recall')\n",
    "plt.ylabel('Precision')\n",
    "plt.title('Precision-Recall Curve')\n",
    "plt.legend(title='Model')\n",
    "plt.grid(True)\n",
    "\n",
    "# Show the plot\n",
    "plt.show()\n"
   ]
  },
  {
   "cell_type": "code",
   "execution_count": null,
   "id": "85c033af",
   "metadata": {},
   "outputs": [],
   "source": [
    "curves_filter = curves[curves[\"curve\"] == \"F1-Confidence(B)\"]\n",
    "for index, row in curves_filter.iterrows():\n",
    "    f1 = row['F1'][0]\n",
    "    confidence = row['Confidence']\n",
    "    \n",
    "    # Now plot them\n",
    "    plt.plot(confidence, f1, label=row['model'])\n",
    "\n",
    "\n",
    "# Adding labels and title\n",
    "plt.xlabel('Confidence')\n",
    "plt.ylabel('F1 Score')\n",
    "plt.title('F1-Confidence Curve')\n",
    "plt.legend(title='Model')\n",
    "plt.grid(True)\n",
    "\n",
    "# Show the plot\n",
    "plt.show()\n"
   ]
  },
  {
   "cell_type": "code",
   "execution_count": null,
   "id": "446a26b7",
   "metadata": {},
   "outputs": [],
   "source": [
    "curves_filter = curves[curves[\"curve\"] == \"Precision-Confidence(B)\"]\n",
    "for index, row in curves_filter.iterrows():\n",
    "    precision = row['Precision'][0]\n",
    "    confidence = row['Confidence']\n",
    "    \n",
    "    # Now plot them\n",
    "    plt.plot(confidence, precision, label=row['model'])\n",
    "\n",
    "\n",
    "# Adding labels and title\n",
    "plt.xlabel('Confidence')\n",
    "plt.ylabel('Precision')\n",
    "plt.title('Precision-Confidence Curve')\n",
    "plt.legend(title='Model')\n",
    "plt.grid(True)\n",
    "\n",
    "# Show the plot\n",
    "plt.show()\n"
   ]
  },
  {
   "cell_type": "code",
   "execution_count": null,
   "id": "e55350cf",
   "metadata": {},
   "outputs": [],
   "source": [
    "curves_filter = curves[curves[\"curve\"] == \"Recall-Confidence(B)\"]\n",
    "for index, row in curves_filter.iterrows():\n",
    "    recall = row['Recall'][0]\n",
    "    confidence = row['Confidence']\n",
    "    \n",
    "    # Now plot them\n",
    "    plt.plot(confidence, recall, label=row['model'])\n",
    "\n",
    "\n",
    "# Adding labels and title\n",
    "plt.xlabel('Confidence')\n",
    "plt.ylabel('Recall')\n",
    "plt.title('Confidence-Recall Curve')\n",
    "plt.legend(title='Model')\n",
    "plt.grid(True)\n",
    "\n",
    "# Show the plot\n",
    "plt.show()\n"
   ]
  }
 ],
 "metadata": {
  "kernelspec": {
   "display_name": "Python 3 (ipykernel)",
   "language": "python",
   "name": "python3"
  },
  "language_info": {
   "codemirror_mode": {
    "name": "ipython",
    "version": 3
   },
   "file_extension": ".py",
   "mimetype": "text/x-python",
   "name": "python",
   "nbconvert_exporter": "python",
   "pygments_lexer": "ipython3",
   "version": "3.10.2"
  }
 },
 "nbformat": 4,
 "nbformat_minor": 5
}
