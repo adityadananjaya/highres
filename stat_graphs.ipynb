{
 "cells": [
  {
   "cell_type": "code",
   "execution_count": null,
   "metadata": {},
   "outputs": [],
   "source": [
    "# Load libraries\n",
    "import pandas as pd\n",
    "import matplotlib.pyplot as plt\n",
    "%matplotlib inline"
   ]
  },
  {
   "cell_type": "code",
   "execution_count": null,
   "metadata": {},
   "outputs": [],
   "source": [
    "# Open CSV\n",
    "df = pd.read_csv('models_performance_unlabelled.csv')\n",
    "\n",
    "model_stats = {}\n",
    "datasets_ref = []\n",
    "\n",
    "# model_info_idx = 0\n",
    "# dataset_idx = 1\n",
    "# avg_detections_idx = 2\n",
    "# avg_confidence_idx = 3\n",
    "\n",
    "# Read CSV contents\n",
    "for index, row in df.iterrows():\n",
    "    model_name = row['model']\n",
    "    dataset = row['dataset']\n",
    "    avg_detections_idx = float(row['average_detections'])\n",
    "    avg_confidence_idx = float(row['average_confidence'])\n",
    "\n",
    "    # Keep track of the datasets used\n",
    "    if dataset not in datasets_ref:\n",
    "        datasets_ref.append(dataset)\n",
    "\n",
    "    # Create list of data\n",
    "    val_ls = [avg_detections_idx, avg_confidence_idx]\n",
    "\n",
    "    # Check if model is in model_stats\n",
    "    if model_name not in model_stats:\n",
    "        model_stats[model_name] = {}\n",
    "        model_stats[model_name][dataset] = val_ls\n",
    "    else:\n",
    "        if dataset not in model_stats[model_name]:\n",
    "            model_stats[model_name][dataset] = val_ls"
   ]
  },
  {
   "cell_type": "code",
   "execution_count": null,
   "metadata": {},
   "outputs": [],
   "source": [
    "model_stats"
   ]
  },
  {
   "cell_type": "code",
   "execution_count": null,
   "metadata": {},
   "outputs": [],
   "source": [
    "def graph_model_data(dataset_name, stat, stat_idx, model_stats):\n",
    "    models = []\n",
    "    values = []\n",
    "\n",
    "    # Obtain data\n",
    "    for model in model_stats:\n",
    "        models.append(model)\n",
    "        values.append(model_stats[model][dataset_name][stat_idx])\n",
    "\n",
    "    # Plot \n",
    "    plt.bar(models, values, color=['red', 'blue'], width=0.5)\n",
    "    plt.title(stat + \" over \" + dataset_name + \" dataset\")\n",
    "    plt.xlabel('Models')\n",
    "    plt.ylabel(stat)\n",
    "    plt.show()"
   ]
  },
  {
   "cell_type": "code",
   "execution_count": null,
   "metadata": {},
   "outputs": [],
   "source": [
    "for dataset in datasets_ref:\n",
    "    \"\"\" Average detections have an index of 0\n",
    "    Average confidence have an index of 1\"\"\"\n",
    "    graph_model_data(dataset, \"Average Detections\", 0, model_stats)\n",
    "    graph_model_data(dataset, \"Average Confidence\", 1, model_stats)"
   ]
  }
 ],
 "metadata": {
  "kernelspec": {
   "display_name": "Python 3",
   "language": "python",
   "name": "python3"
  },
  "language_info": {
   "codemirror_mode": {
    "name": "ipython",
    "version": 3
   },
   "file_extension": ".py",
   "mimetype": "text/x-python",
   "name": "python",
   "nbconvert_exporter": "python",
   "pygments_lexer": "ipython3",
   "version": "3.10.12"
  }
 },
 "nbformat": 4,
 "nbformat_minor": 2
}
